{
  "cells": [
    {
      "cell_type": "markdown",
      "source": [
        "                          Data Types and Structures\n",
        "                           Assignment Questions\n",
        "1.  What are data structures, and why are they important?\n",
        "  - Data structure way of organizing and storing data so that it can be accessed and manipulated effeciently. Data structuer type of List, typle, array, dictionary and String.\n",
        "\n",
        "2. Explain the difference between mutable and immutable data types with examples.\n",
        "  - list is mutable data structure you cna change easly aftre the creation but tuple are immutable data structure you don't change after the creation\n",
        "  list example:\n",
        "                ss = [1,2,3,]\n",
        "                ss[0] = 4\n",
        "                ss\n",
        " tuple example:\n",
        "              ss = (1,2,3,)\n",
        "              ss[1] = 4\n",
        "              print(type(ss))\n",
        "              ss\n",
        "\n",
        "3.  What are the main differences between lists and tuples in Python?\n",
        "  - list: is mutable. which means you can change their contents after creation.\n",
        "  - tuple: are immutable. Once you create a tuple, you cannot change its content.  \n",
        "  - list: is like a shoping bag you can store anything.\n",
        "  - tuple: also heterogenous.\n",
        "  - list: You can access elements by their index, and you can perform various operations like adding, removing, or sorting elements.\n",
        "  - tuple: They are often used to represent collections of related values.\n",
        "\n",
        "4. Describe how dictionaries store data.\n",
        "  - Dictionary whic stores the data in the form of key value pair.\n",
        "\n",
        "5. Why might you use a set instead of a list in Python?\n",
        "  - Immutable data structure has a hash value set and tuples working but set and list are not working\n",
        "  \n",
        "\n",
        "6.  What is a string in Python, and how is it different from a list?\n",
        "  - String is a sequence of character represent and manipulate texual data\n",
        "  character are represent using numerical values each character is assigned a unique\n",
        "  list is mutable. which means you can change their contents after creation.\n",
        "  list is like a shoping bag you can store anything.\n",
        "  list You can access elements by their index, and you can perform various operations like adding, removing, or sorting elements.\n",
        "\n",
        "7. How do tuples ensure data integrity in Python?\n",
        "  -\n",
        "\n",
        "8.  What is a hash table, and how does it relate to dictionaries in Python?\n",
        "  - A hash table is a data structure that allows for quick insertion, deletion, and retrieval of data. It works by using a hash function to map a key to an index in an array. we will implement a hash table in Python using separate chaining to handle collisions.\n",
        "\n",
        "9.  Can lists contain different data types in Python?\n",
        "  - Lists in Python can contain elements of different data types. A list is a versatile data structure that can hold any combination of data types, including integers, strings, floats, booleans, and even other lists or objects\n",
        "\n",
        "10.  Explain why strings are immutable in Python.\n",
        "  - Strings are immutable in Python because it provides advantages in terms of efficiency, security, and reliability, especially when using strings as keys in dictionaries or elements in sets. The immutability of strings ensures that their values remain constant throughout the program and makes them more predictable and safer to use.\n",
        "\n",
        "11.  What advantages do dictionaries offer over lists for certain tasks?\n",
        "  - Dictionaries excel when you need fast access to data by a specific key, ensure uniqueness, or store data in meaningful key-value pairs.\n",
        "Lists are better when you need to maintain order, allow duplicates, and access elements by index or when the data order is crucial\n",
        "\n",
        "\n",
        "12.  Describe a scenario where using a tuple would be preferable over a list.\n",
        "  - A tuple would be preferable over a list in scenarios where you need to store a collection of items that should not be changed after creation. Tuples are immutable, meaning their values cannot be altered, added, or removed once they are created. This makes tuples ideal in situations where you want to ensure the integrity and consistency of the data.\n",
        "\n",
        "13. How do sets handle duplicate values in Python?\n",
        "  - In Python, sets automatically handle duplicate values by removing them. store only unique value\n",
        "\n",
        "14. How does the “in” keyword work differently for lists and dictionaries?\n",
        "  - For list, the in keyword checks if the vlaue exists in the list.\n",
        "  For dictionaries, the in keyword checks if the key exists in the dictionary, not the value. To check for a value, you must use .values() or .items() if you want to check both keys and values.\n",
        "\n",
        "15. Can you modify the elements of a tuple? Explain why or why not.\n",
        "  - Tuple are immutable and don't allow to modify the data\n",
        "\n",
        "16.  What is a nested dictionary, and give an example of its use case?\n",
        "  - The nested dictionary, tuple inside tuple\n",
        "   example:\n",
        "   tup = (1, 2, 3)\n",
        "   tup2 = (3,2,1,5)\n",
        "   tup3 = (tup, tup2)\n",
        "\n",
        "17. Describe the time complexity of accessing elements in a dictionary.\n",
        "  - In Python, dictionaries are implemented using a hash table, which allows for average constant-time access to elements. This means that the time complexity for accessing elements in a dictionary is typically O(1), on average\n",
        "  \n",
        "18.  In what situations are lists preferred over dictionaries?\n",
        "  - Lists are preferred over dictionaries in situations where the order of elements matters, or when you need to store and access data sequentially by position or index, rather than by a key. Here are some scenarios where lists are better suited than dictionaries\n",
        "\n",
        "19.  Why are dictionaries considered unordered, and how does that affect data retrieval?\n",
        "  -\n",
        "\n",
        "20. Explain the difference between a list and a dictionary in terms of data retrieval.\n",
        "  - List Ordered collection of elements indexed by position.\n",
        "  Access by index (position).\n",
        "  - Access by index: O(1)\n",
        "  Use when you need to access elements in a specific sequence or order.\n",
        "  Allows duplicates (e.g., same value multiple times).\n",
        "  Lists maintain the order of elements (insertion order)\n",
        "\n",
        "  Dictionary Use when you need to map keys to values efficiently.\n",
        "  Does not allow duplicate keys (but can have duplicate values).\n",
        "  Dictionaries maintain insertion order (since Python 3.7+), but are primarily designed for key-value pairs.\n",
        "  - Access by key: O(1) (on average).\n",
        "  Unordered collection of key-value pairs.\n",
        "   "
      ],
      "metadata": {
        "id": "Uw51aErr1Qlj"
      }
    },
    {
      "cell_type": "markdown",
      "source": [
        "          **PractialQuestion**"
      ],
      "metadata": {
        "id": "BPcGu92dK5fZ"
      }
    },
    {
      "cell_type": "markdown",
      "source": [
        "1.   Write a code to create a string with your name and print it."
      ],
      "metadata": {
        "id": "WduoTy2wLGi8"
      }
    },
    {
      "cell_type": "code",
      "source": [
        "name = \"Shiv kumar\"\n",
        "print(name)"
      ],
      "metadata": {
        "colab": {
          "base_uri": "https://localhost:8080/"
        },
        "id": "p1sjm5w1oTZL",
        "outputId": "b9f29049-0c15-4b7b-ccf4-4adc9c9114a3"
      },
      "execution_count": null,
      "outputs": [
        {
          "output_type": "stream",
          "name": "stdout",
          "text": [
            "Shiv kumar\n"
          ]
        }
      ]
    },
    {
      "cell_type": "markdown",
      "source": [
        "2. Write a code to find the length of the string \"Hello World\"."
      ],
      "metadata": {
        "id": "NDRSkc7FLXPS"
      }
    },
    {
      "cell_type": "code",
      "source": [
        "name = \"Hello Word\"\n",
        "len(name)"
      ],
      "metadata": {
        "colab": {
          "base_uri": "https://localhost:8080/"
        },
        "id": "ocxnTwFGobWf",
        "outputId": "dfbe8661-c7fb-4dac-f78c-f61b47351137"
      },
      "execution_count": null,
      "outputs": [
        {
          "output_type": "execute_result",
          "data": {
            "text/plain": [
              "10"
            ]
          },
          "metadata": {},
          "execution_count": 3
        }
      ]
    },
    {
      "cell_type": "markdown",
      "source": [
        "3. Write a code to slice the first 3 characters from the string \"Python Programming\""
      ],
      "metadata": {
        "id": "cEQpMfVpL3W6"
      }
    },
    {
      "cell_type": "code",
      "source": [
        "name = \"Python Programing\"\n",
        "name[0:3]"
      ],
      "metadata": {
        "id": "UT-MOCSoobkX",
        "colab": {
          "base_uri": "https://localhost:8080/",
          "height": 36
        },
        "outputId": "13a687f3-ecc1-4888-e953-4b1d1f48839d"
      },
      "execution_count": null,
      "outputs": [
        {
          "output_type": "execute_result",
          "data": {
            "text/plain": [
              "'Pyt'"
            ],
            "application/vnd.google.colaboratory.intrinsic+json": {
              "type": "string"
            }
          },
          "metadata": {},
          "execution_count": 4
        }
      ]
    },
    {
      "cell_type": "markdown",
      "source": [
        "4. Write a code to convert the string \"hello\" to uppercase."
      ],
      "metadata": {
        "id": "hiYUsHmRMUZB"
      }
    },
    {
      "cell_type": "code",
      "source": [
        "con = \"hello\"\n",
        "con.upper()"
      ],
      "metadata": {
        "id": "4l21ZF6qobwH",
        "colab": {
          "base_uri": "https://localhost:8080/",
          "height": 36
        },
        "outputId": "7da71fde-d071-4808-e9c6-b6d371e4a786"
      },
      "execution_count": null,
      "outputs": [
        {
          "output_type": "execute_result",
          "data": {
            "text/plain": [
              "'HELLO'"
            ],
            "application/vnd.google.colaboratory.intrinsic+json": {
              "type": "string"
            }
          },
          "metadata": {},
          "execution_count": 5
        }
      ]
    },
    {
      "cell_type": "markdown",
      "source": [
        "5. Write a code to replace the word \"apple\" with \"orange\" in the string \"I like apple\".\n"
      ],
      "metadata": {
        "id": "1ctJnJ-PMg-7"
      }
    },
    {
      "cell_type": "code",
      "source": [
        "frut = \"Apple\"\n",
        "frut.replace(\"Apple\", \"Ornage\")"
      ],
      "metadata": {
        "id": "xxu_SgN6ocHG",
        "colab": {
          "base_uri": "https://localhost:8080/",
          "height": 36
        },
        "outputId": "91495152-17cd-43f0-d691-957881868827"
      },
      "execution_count": null,
      "outputs": [
        {
          "output_type": "execute_result",
          "data": {
            "text/plain": [
              "'Ornage'"
            ],
            "application/vnd.google.colaboratory.intrinsic+json": {
              "type": "string"
            }
          },
          "metadata": {},
          "execution_count": 16
        }
      ]
    },
    {
      "cell_type": "markdown",
      "source": [
        "6. Write a code to create a list with numbers 1 to 5 and print it."
      ],
      "metadata": {
        "id": "xhaa23XUNnag"
      }
    },
    {
      "cell_type": "code",
      "source": [
        "num = range(1, 6)\n",
        "list(num)"
      ],
      "metadata": {
        "colab": {
          "base_uri": "https://localhost:8080/"
        },
        "id": "AOooNYx5Nt_l",
        "outputId": "4b034acb-273b-479d-f395-4d5d0fc77355"
      },
      "execution_count": null,
      "outputs": [
        {
          "output_type": "execute_result",
          "data": {
            "text/plain": [
              "[1, 2, 3, 4, 5]"
            ]
          },
          "metadata": {},
          "execution_count": 22
        }
      ]
    },
    {
      "cell_type": "markdown",
      "source": [
        "7.  Write a code to append the number 10 to the list [1, 2, 3, 4].\n"
      ],
      "metadata": {
        "id": "baz7iQSHOo09"
      }
    },
    {
      "cell_type": "code",
      "source": [
        "opp = [1, 2, 3, 4]\n",
        "opp.append(10)\n",
        "opp"
      ],
      "metadata": {
        "id": "RPMSIy7jNuOF",
        "colab": {
          "base_uri": "https://localhost:8080/"
        },
        "outputId": "a4a4c0cf-9cc3-40f1-e396-1c080e712f79"
      },
      "execution_count": null,
      "outputs": [
        {
          "output_type": "execute_result",
          "data": {
            "text/plain": [
              "[1, 2, 3, 4, 10]"
            ]
          },
          "metadata": {},
          "execution_count": 1
        }
      ]
    },
    {
      "cell_type": "markdown",
      "source": [
        "8. Write a code to remove the number 3 from the list [1, 2, 3, 4, 5].\n"
      ],
      "metadata": {
        "id": "lXPhejBlLnrH"
      }
    },
    {
      "cell_type": "code",
      "source": [
        "list = [1, 2, 3, 4, 5]\n",
        "list.remove(3)\n",
        "list"
      ],
      "metadata": {
        "id": "SVZsvUaZNuU2",
        "colab": {
          "base_uri": "https://localhost:8080/"
        },
        "outputId": "4a67733e-5462-4ee7-855d-e985214de2e7"
      },
      "execution_count": null,
      "outputs": [
        {
          "output_type": "execute_result",
          "data": {
            "text/plain": [
              "[1, 2, 4, 5]"
            ]
          },
          "metadata": {},
          "execution_count": 2
        }
      ]
    },
    {
      "cell_type": "markdown",
      "source": [
        "9. Write a code to access the second element in the list ['a', 'b', 'c', 'd']."
      ],
      "metadata": {
        "id": "PX5mwp7IL-Dk"
      }
    },
    {
      "cell_type": "code",
      "source": [
        "pt = ['a','b','c','d']\n",
        "pt[1]"
      ],
      "metadata": {
        "id": "MGKxlKzgNuZu",
        "colab": {
          "base_uri": "https://localhost:8080/",
          "height": 36
        },
        "outputId": "6e7e1cd1-60bc-4e2d-b602-315ffc9bd3e3"
      },
      "execution_count": null,
      "outputs": [
        {
          "output_type": "execute_result",
          "data": {
            "text/plain": [
              "'b'"
            ],
            "application/vnd.google.colaboratory.intrinsic+json": {
              "type": "string"
            }
          },
          "metadata": {},
          "execution_count": 11
        }
      ]
    },
    {
      "cell_type": "markdown",
      "source": [
        "10.  Write a code to reverse the list [10, 20, 30, 40, 50].\n"
      ],
      "metadata": {
        "id": "d91VrKE8NFar"
      }
    },
    {
      "cell_type": "code",
      "source": [
        "list = [10, 20, 30, 40, 50]\n",
        "for i in reversed(list):\n",
        "  print(i)"
      ],
      "metadata": {
        "id": "HH0pJiSuNueW",
        "colab": {
          "base_uri": "https://localhost:8080/"
        },
        "outputId": "b6b9bef7-e51d-4823-af29-a3173cbb9b97"
      },
      "execution_count": null,
      "outputs": [
        {
          "output_type": "stream",
          "name": "stdout",
          "text": [
            "50\n",
            "40\n",
            "30\n",
            "20\n",
            "10\n"
          ]
        }
      ]
    },
    {
      "cell_type": "markdown",
      "source": [
        "11. Write a code to create a tuple with the elements 100, 200, 300 and print it."
      ],
      "metadata": {
        "id": "Ad07Rxt1OEJu"
      }
    },
    {
      "cell_type": "code",
      "source": [
        "list = (100, 200, 300, 400)\n",
        "type(list)"
      ],
      "metadata": {
        "colab": {
          "base_uri": "https://localhost:8080/"
        },
        "id": "-mjAlA41ONpC",
        "outputId": "d61348c7-2e37-4ed0-a4a0-4f3047d3ace6"
      },
      "execution_count": null,
      "outputs": [
        {
          "output_type": "execute_result",
          "data": {
            "text/plain": [
              "tuple"
            ]
          },
          "metadata": {},
          "execution_count": 19
        }
      ]
    },
    {
      "cell_type": "markdown",
      "source": [
        " 12. Write a code to access the second-to-last element of the tuple ('red', 'green', 'blue', 'yellow')."
      ],
      "metadata": {
        "id": "qYhxpfBhOcEG"
      }
    },
    {
      "cell_type": "code",
      "source": [
        "list = ('red', 'greem', 'blue', 'yell0w')\n",
        "list[-2]"
      ],
      "metadata": {
        "colab": {
          "base_uri": "https://localhost:8080/",
          "height": 36
        },
        "id": "D-o1nMqwON5a",
        "outputId": "3f082531-ffe9-4fe7-a0dc-0578807a056e"
      },
      "execution_count": null,
      "outputs": [
        {
          "output_type": "execute_result",
          "data": {
            "text/plain": [
              "'blue'"
            ],
            "application/vnd.google.colaboratory.intrinsic+json": {
              "type": "string"
            }
          },
          "metadata": {},
          "execution_count": 25
        }
      ]
    },
    {
      "cell_type": "markdown",
      "source": [
        "13. Write a code to find the minimum number in the tuple (10, 20, 5, 15)."
      ],
      "metadata": {
        "id": "fo1fvqkpPHqa"
      }
    },
    {
      "cell_type": "markdown",
      "source": [
        "tup = (,20, 5, 15)"
      ],
      "metadata": {
        "id": "uFJeiTUCPHDd"
      }
    },
    {
      "cell_type": "markdown",
      "source": [
        "13.  Write a code to find the minimum number in the tuple (10, 20, 5, 15)."
      ],
      "metadata": {
        "id": "9-ku-U1XXWrU"
      }
    },
    {
      "cell_type": "code",
      "source": [
        "list = (10, 20, 5, 15)\n",
        "min=list[0]\n",
        "for i in list:\n",
        "  if i < min:\n",
        "    min = i\n",
        "print(min)"
      ],
      "metadata": {
        "id": "-8sNit1GOOAS",
        "colab": {
          "base_uri": "https://localhost:8080/"
        },
        "outputId": "b969456c-1f3c-45f7-a18a-1e19ca14e8bb"
      },
      "execution_count": 2,
      "outputs": [
        {
          "output_type": "stream",
          "name": "stdout",
          "text": [
            "5\n"
          ]
        }
      ]
    },
    {
      "cell_type": "markdown",
      "source": [
        "14. Write a code to find the index of the element \"cat\" in the tuple ('dog', 'cat', 'rabbit')."
      ],
      "metadata": {
        "id": "2IQvFQN1YgBI"
      }
    },
    {
      "cell_type": "code",
      "source": [
        "list = ('dog', 'cat', 'rabbit')\n",
        "list.index('cat')\n"
      ],
      "metadata": {
        "id": "d79-ZFdlOOEa",
        "colab": {
          "base_uri": "https://localhost:8080/"
        },
        "outputId": "83b5500c-839b-4cd8-d03f-8ebd634d27d3"
      },
      "execution_count": 3,
      "outputs": [
        {
          "output_type": "execute_result",
          "data": {
            "text/plain": [
              "1"
            ]
          },
          "metadata": {},
          "execution_count": 3
        }
      ]
    },
    {
      "cell_type": "markdown",
      "source": [
        "15. Write a code to create a tuple containing three different fruits and check if \"kiwi\" is in it."
      ],
      "metadata": {
        "id": "Ee1_AgQlYxm3"
      }
    },
    {
      "cell_type": "code",
      "source": [
        "top = ('apple', 'banana', 'kiwi')\n",
        "kk = 'kiwi'\n",
        "if kk in top:\n",
        "  print(\"yes\")\n",
        "else:\n",
        "  print(\"no\")"
      ],
      "metadata": {
        "id": "arQqQNXAOOIK",
        "colab": {
          "base_uri": "https://localhost:8080/"
        },
        "outputId": "9bbf6318-0d91-498d-bb62-122ce3c02a7f"
      },
      "execution_count": 5,
      "outputs": [
        {
          "output_type": "stream",
          "name": "stdout",
          "text": [
            "yes\n"
          ]
        }
      ]
    },
    {
      "cell_type": "markdown",
      "source": [
        "16. Write a code to create a set with the elements 'a', 'b', 'c' and print it."
      ],
      "metadata": {
        "id": "UnM6vrQ6Zl6j"
      }
    },
    {
      "cell_type": "code",
      "source": [
        "ola = {\"a\", \"b\", \"c\"}\n",
        "ola"
      ],
      "metadata": {
        "id": "43X7Pk4cOOLq",
        "colab": {
          "base_uri": "https://localhost:8080/"
        },
        "outputId": "8d207a19-8f4c-4d73-9c44-20e4a817cea0"
      },
      "execution_count": 9,
      "outputs": [
        {
          "output_type": "execute_result",
          "data": {
            "text/plain": [
              "{'a', 'b', 'c'}"
            ]
          },
          "metadata": {},
          "execution_count": 9
        }
      ]
    },
    {
      "cell_type": "markdown",
      "source": [
        "17. Write a code to clear all elements from the set {1, 2, 3, 4, 5}."
      ],
      "metadata": {
        "id": "BVKIDPjaaHNn"
      }
    },
    {
      "cell_type": "code",
      "source": [
        "ola = {1, 2, 3, 4, 5}\n",
        "ola.clear()\n",
        "ola"
      ],
      "metadata": {
        "colab": {
          "base_uri": "https://localhost:8080/"
        },
        "id": "Do0mG_99Zzje",
        "outputId": "eec45713-8c8b-43f8-c991-69c0609d7253"
      },
      "execution_count": 10,
      "outputs": [
        {
          "output_type": "execute_result",
          "data": {
            "text/plain": [
              "set()"
            ]
          },
          "metadata": {},
          "execution_count": 10
        }
      ]
    },
    {
      "cell_type": "markdown",
      "source": [
        "18. Write a code to remove the element 4 from the set {1, 2, 3, 4}."
      ],
      "metadata": {
        "id": "-MdSj6lQaZ8R"
      }
    },
    {
      "cell_type": "code",
      "source": [
        "ola = {1, 2, 3, 4, 5}\n",
        "ola.remove(4)\n",
        "ola"
      ],
      "metadata": {
        "colab": {
          "base_uri": "https://localhost:8080/"
        },
        "id": "6G0NaeIoZzmd",
        "outputId": "16650784-9a90-4830-971a-65c2bc18cc68"
      },
      "execution_count": 13,
      "outputs": [
        {
          "output_type": "execute_result",
          "data": {
            "text/plain": [
              "{1, 2, 3, 5}"
            ]
          },
          "metadata": {},
          "execution_count": 13
        }
      ]
    },
    {
      "cell_type": "markdown",
      "source": [
        "19. Write a code to find the union of two sets {1, 2, 3} and {3, 4, 5}."
      ],
      "metadata": {
        "id": "4sWZS1ZJa2Ih"
      }
    },
    {
      "cell_type": "code",
      "source": [
        "oho = {1, 2, 3}\n",
        "noo = {3, 4, 5}\n",
        "print(oho|noo)"
      ],
      "metadata": {
        "colab": {
          "base_uri": "https://localhost:8080/"
        },
        "id": "7KS5CKKcZzpm",
        "outputId": "56735ed6-2caa-4ac7-8470-54e65cc56365"
      },
      "execution_count": 15,
      "outputs": [
        {
          "output_type": "stream",
          "name": "stdout",
          "text": [
            "{1, 2, 3, 4, 5}\n"
          ]
        }
      ]
    },
    {
      "cell_type": "markdown",
      "source": [
        "20. Write a code to find the intersection of two sets {1, 2, 3} and {2, 3, 4}."
      ],
      "metadata": {
        "id": "hMWzyf1ZdGlU"
      }
    },
    {
      "cell_type": "code",
      "source": [
        "oho = {1, 2, 3}\n",
        "noo = {3, 4, 5}\n",
        "print(oho&noo)"
      ],
      "metadata": {
        "colab": {
          "base_uri": "https://localhost:8080/"
        },
        "id": "MeMXmzgTZzsn",
        "outputId": "acfaface-e66f-406a-b2e5-bfd34029772d"
      },
      "execution_count": 17,
      "outputs": [
        {
          "output_type": "stream",
          "name": "stdout",
          "text": [
            "{3}\n"
          ]
        }
      ]
    },
    {
      "cell_type": "markdown",
      "source": [
        "21. Write a code to create a dictionary with the keys \"name\", \"age\", and \"city\", and print it."
      ],
      "metadata": {
        "id": "vbcqPvRIdrGZ"
      }
    },
    {
      "cell_type": "code",
      "source": [
        "student = {\"Name: shiv\", \"Age: 23\", \"City: Dadri\"}\n",
        "for i in student:\n",
        "  print(i)"
      ],
      "metadata": {
        "colab": {
          "base_uri": "https://localhost:8080/"
        },
        "id": "oRoRLvOadseH",
        "outputId": "6133290c-7c50-4212-e79a-0d34da73c10d"
      },
      "execution_count": 21,
      "outputs": [
        {
          "output_type": "stream",
          "name": "stdout",
          "text": [
            "Name: shiv\n",
            "City: Dadri\n",
            "Age: 23\n"
          ]
        }
      ]
    },
    {
      "cell_type": "markdown",
      "source": [
        "22. Write a code to add a new key-value pair \"country\": \"USA\" to the dictionary {'name': 'John', 'age': 25}."
      ],
      "metadata": {
        "id": "dJCBJEjBeZkf"
      }
    },
    {
      "cell_type": "code",
      "source": [
        "employ = {'name': 'John', 'age': 25}\n",
        "employ[\"country\"] = \"USA\"\n",
        "employ"
      ],
      "metadata": {
        "colab": {
          "base_uri": "https://localhost:8080/"
        },
        "id": "QBVvmHPOdvIR",
        "outputId": "9d8d6c5f-c55b-440c-d156-0e53a1c7479f"
      },
      "execution_count": 39,
      "outputs": [
        {
          "output_type": "execute_result",
          "data": {
            "text/plain": [
              "{'name': 'John', 'age': 25, 'country': 'USA'}"
            ]
          },
          "metadata": {},
          "execution_count": 39
        }
      ]
    },
    {
      "cell_type": "markdown",
      "source": [
        "23. Write a code to access the value associated with the key \"name\" in the dictionary {'name': 'Alice', 'age': 30}."
      ],
      "metadata": {
        "id": "8x6HXebchUqX"
      }
    },
    {
      "cell_type": "code",
      "source": [
        "dictionary = {'name': 'Alice', 'age': 30}\n",
        "dictionary[\"name\"]"
      ],
      "metadata": {
        "colab": {
          "base_uri": "https://localhost:8080/",
          "height": 36
        },
        "id": "-oqil93Sdvbn",
        "outputId": "ebcf3629-f1ca-4259-dae4-2af16823f8cb"
      },
      "execution_count": 40,
      "outputs": [
        {
          "output_type": "execute_result",
          "data": {
            "text/plain": [
              "'Alice'"
            ],
            "application/vnd.google.colaboratory.intrinsic+json": {
              "type": "string"
            }
          },
          "metadata": {},
          "execution_count": 40
        }
      ]
    },
    {
      "cell_type": "markdown",
      "source": [
        " 24. Write a code to remove the key \"age\" from the dictionary {'name': 'Bob', 'age': 22, 'city': 'New York'}."
      ],
      "metadata": {
        "id": "RXdeq0BUhprQ"
      }
    },
    {
      "cell_type": "code",
      "source": [
        " dictionary = {'name': 'Bob', 'age': 22, 'city': 'New York'}\n",
        " dictionary.pop(\"age\")\n",
        " dictionary"
      ],
      "metadata": {
        "colab": {
          "base_uri": "https://localhost:8080/"
        },
        "id": "AKVKbotHdvlP",
        "outputId": "24025516-4fe0-4d16-db17-0aa266da5cd8"
      },
      "execution_count": 41,
      "outputs": [
        {
          "output_type": "execute_result",
          "data": {
            "text/plain": [
              "{'name': 'Bob', 'city': 'New York'}"
            ]
          },
          "metadata": {},
          "execution_count": 41
        }
      ]
    },
    {
      "cell_type": "markdown",
      "source": [
        "25. Write a code to check if the key \"city\" exists in the dictionary {'name': 'Alice', 'city': 'Paris'}."
      ],
      "metadata": {
        "id": "pFhaBXPvh5rR"
      }
    },
    {
      "cell_type": "code",
      "source": [
        "dictionary={'name': 'Alice', 'city': 'Paris'}\n",
        "if \"city\" in dictionary:\n",
        "  print(\"yes\")\n",
        "else:\n",
        "  peint(\"no\")"
      ],
      "metadata": {
        "colab": {
          "base_uri": "https://localhost:8080/"
        },
        "id": "TC07KKvudvuX",
        "outputId": "094471f0-dacf-4c97-ab23-674ec03d19a0"
      },
      "execution_count": 42,
      "outputs": [
        {
          "output_type": "stream",
          "name": "stdout",
          "text": [
            "yes\n"
          ]
        }
      ]
    },
    {
      "cell_type": "markdown",
      "source": [
        "26. Write a code to create a list, a tuple, and a dictionary, and print them all."
      ],
      "metadata": {
        "id": "CnOh1uLSiSYs"
      }
    },
    {
      "cell_type": "code",
      "source": [
        "dictionary={'name': 'Alice', 'city': 'Paris'}\n",
        "list=['name', 'Alice', 'city', 'Paris']\n",
        "tuple=('name',  'Alice', 'city', 'Paris')\n",
        "\n",
        "print(dictionary)\n",
        "print(list)\n",
        "print(tuple)\n"
      ],
      "metadata": {
        "colab": {
          "base_uri": "https://localhost:8080/"
        },
        "id": "Wvgn1JRudv3u",
        "outputId": "66917cef-48a0-4a45-9463-0d0ca203f8d2"
      },
      "execution_count": 55,
      "outputs": [
        {
          "output_type": "stream",
          "name": "stdout",
          "text": [
            "{'name': 'Alice', 'city': 'Paris'}\n",
            "['name', 'Alice', 'city', 'Paris']\n",
            "('name', 'Alice', 'city', 'Paris')\n"
          ]
        }
      ]
    },
    {
      "cell_type": "markdown",
      "source": [
        "27. Write a code to create a list of 5 random numbers between 1 and 100, sort it in ascending order, and print the  result.(replaced)"
      ],
      "metadata": {
        "id": "pgL5pcHIkOOF"
      }
    },
    {
      "cell_type": "code",
      "source": [
        "import random\n",
        "random_numbers = [random.randint(1, 100) for _ in range(5)]\n",
        "random_numbers.sort()\n",
        "print(random_numbers)\n",
        "\n"
      ],
      "metadata": {
        "colab": {
          "base_uri": "https://localhost:8080/"
        },
        "id": "QJgh1CpxdtTX",
        "outputId": "19f7784f-1879-441d-fdc1-d4f7cd7aaa8f"
      },
      "execution_count": 56,
      "outputs": [
        {
          "output_type": "stream",
          "name": "stdout",
          "text": [
            "[7, 20, 66, 76, 81]\n"
          ]
        }
      ]
    },
    {
      "cell_type": "markdown",
      "source": [
        "28. Write a code to create a list with strings and print the element at the third index."
      ],
      "metadata": {
        "id": "q8pTRX1LlYNk"
      }
    },
    {
      "cell_type": "code",
      "source": [
        "list = ['a', 'b', 'c', 'v']\n",
        "list[2]"
      ],
      "metadata": {
        "colab": {
          "base_uri": "https://localhost:8080/",
          "height": 36
        },
        "id": "zGJQkQoElcd8",
        "outputId": "61d533a6-18c8-4781-cf1b-cea34de1a639"
      },
      "execution_count": 57,
      "outputs": [
        {
          "output_type": "execute_result",
          "data": {
            "text/plain": [
              "'c'"
            ],
            "application/vnd.google.colaboratory.intrinsic+json": {
              "type": "string"
            }
          },
          "metadata": {},
          "execution_count": 57
        }
      ]
    },
    {
      "cell_type": "markdown",
      "source": [
        " 29. Write a code to combine two dictionaries into one and print the result."
      ],
      "metadata": {
        "id": "d2KqhGcVldS_"
      }
    },
    {
      "cell_type": "code",
      "source": [
        "dictionary = {'name': 'Bob', 'age': 22, 'city': 'New York'}\n",
        "dictionary1={'name': 'Alice', 'city': 'Paris'}\n",
        "dictionary.update(dictionary1)\n",
        "dictionary"
      ],
      "metadata": {
        "colab": {
          "base_uri": "https://localhost:8080/"
        },
        "id": "aCOvKTKxld7U",
        "outputId": "4332a65e-3092-4f08-f2c0-7b619fe1225a"
      },
      "execution_count": 58,
      "outputs": [
        {
          "output_type": "execute_result",
          "data": {
            "text/plain": [
              "{'name': 'Alice', 'age': 22, 'city': 'Paris'}"
            ]
          },
          "metadata": {},
          "execution_count": 58
        }
      ]
    },
    {
      "cell_type": "markdown",
      "source": [
        " 30. Write a code to convert a list of strings into a set."
      ],
      "metadata": {
        "id": "vK4fhObhmdxW"
      }
    },
    {
      "cell_type": "code",
      "source": [
        "string_list = [\"apple\", \"banana\", \"cherry\", \"apple\", \"banana\"]\n",
        "string_set = set(string_list)\n",
        "string_set"
      ],
      "metadata": {
        "colab": {
          "base_uri": "https://localhost:8080/"
        },
        "id": "CSCQckssmem9",
        "outputId": "ee054c70-8cf7-4d7f-b83a-cd6d4df4ceb0"
      },
      "execution_count": 59,
      "outputs": [
        {
          "output_type": "execute_result",
          "data": {
            "text/plain": [
              "{'apple', 'banana', 'cherry'}"
            ]
          },
          "metadata": {},
          "execution_count": 59
        }
      ]
    },
    {
      "cell_type": "markdown",
      "source": [],
      "metadata": {
        "id": "U1YhXQVGleaD"
      }
    }
  ],
  "metadata": {
    "colab": {
      "provenance": []
    },
    "kernelspec": {
      "display_name": "Python 3",
      "name": "python3"
    },
    "language_info": {
      "name": "python"
    }
  },
  "nbformat": 4,
  "nbformat_minor": 0
}